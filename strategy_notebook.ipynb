{
 "cells": [
  {
   "cell_type": "code",
   "execution_count": null,
   "metadata": {},
   "outputs": [],
   "source": []
  },
  {
   "cell_type": "code",
   "execution_count": null,
   "metadata": {},
   "outputs": [],
   "source": [
    "def trade_on_prediction(model, LOB3Data, feature_columns, num_bins, window_len, delay_steps, lambda_, batch_size, device):\n",
    "    # Convert the model to evaluation mode\n",
    "    model.eval()\n",
    "\n",
    "    # Initialize trading variables\n",
    "    cash = 0\n",
    "    assets = 0\n",
    "\n",
    "    # Prepare the data\n",
    "    data = calculate_lob_features(LOB3Data, num_bins, window_len, delay_steps, lambda_)\n",
    "\n",
    "    categorical_features = ['current_imbalance_idx', 'current_price_movement']\n",
    "    _, test_loader = get_dataloaders(data, feature_columns, categorical_features, batch_size=batch_size, val_data=True)\n",
    "\n",
    "    # Loop over all the data in the test_loader\n",
    "    with torch.no_grad():\n",
    "        for X, _ in test_loader:\n",
    "            X = X.to(device)\n",
    "            predictions = model(X)\n",
    "            predicted_classes = torch.argmax(predictions, axis=1)\n",
    "\n",
    "            for predicted_class in predicted_classes:\n",
    "                if predicted_class == 0:  # Predicted downward price movement\n",
    "                    if assets < 0:  # If we have a short position\n",
    "                        cash = cash + LOB3Data['MOAsk']  # Buy back\n",
    "                        assets = assets + 1\n",
    "                    else:\n",
    "                        cash = cash + LOB3Data['MOBid']  # Sell\n",
    "                        assets = assets - 1\n",
    "                elif predicted_class == 2:  # Predicted upward price movement\n",
    "                    if assets > 0:  # If we have a long position\n",
    "                        cash = cash - LOB3Data['MOBid']  # Sell off\n",
    "                        assets = assets - 1\n",
    "                    else:\n",
    "                        cash = cash - LOB3Data['MOAsk']  # Buy\n",
    "                        assets = assets + 1\n",
    "\n",
    "    # At the end of trading, liquidate position\n",
    "    if assets > 0:\n",
    "        cash = cash + assets * LOB3Data['MOBid'][-1]  # Sell off\n",
    "    elif assets < 0:\n",
    "        cash = cash + assets * LOB3Data['MOAsk'][-1]  # Buy back\n",
    "\n",
    "    return cash\n"
   ]
  }
 ],
 "metadata": {
  "kernelspec": {
   "display_name": "tf",
   "language": "python",
   "name": "python3"
  },
  "language_info": {
   "name": "python",
   "version": "3.9.16"
  },
  "orig_nbformat": 4
 },
 "nbformat": 4,
 "nbformat_minor": 2
}
